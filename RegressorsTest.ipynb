{
 "cells": [
  {
   "cell_type": "code",
   "execution_count": 42,
   "metadata": {},
   "outputs": [],
   "source": [
    "import matplotlib.pyplot as plt\n",
    "import numpy as np\n",
    "import pandas as pd\n",
    "import seaborn as sns\n",
    "import xgboost as xgb\n",
    "from sklearn import svm\n",
    "from Utils import GeoUtils\n",
    "\n",
    "from scipy import stats\n",
    "from scipy.stats import norm, skew #for some statistics\n",
    "\n",
    "from sklearn.model_selection import train_test_split\n",
    "from sklearn.preprocessing import StandardScaler\n",
    "from sklearn.multioutput import MultiOutputRegressor\n",
    "from sklearn.pipeline import make_pipeline\n",
    "from sklearn.ensemble import RandomForestRegressor,  GradientBoostingRegressor\n",
    "from sklearn.linear_model import ElasticNet, Lasso,  BayesianRidge, LassoLarsIC\n",
    "from sklearn.kernel_ridge import KernelRidge\n",
    "from sklearn.base import BaseEstimator, TransformerMixin, RegressorMixin, clone\n",
    "from sklearn.neighbors import KNeighborsRegressor\n",
    "from sklearn.model_selection import KFold, cross_val_score, train_test_split\n",
    "from matplotlib.pyplot import figure\n",
    "from sklearn.decomposition import PCA\n",
    "\n",
    "%matplotlib inline"
   ]
  },
  {
   "cell_type": "code",
   "execution_count": 43,
   "metadata": {},
   "outputs": [],
   "source": [
    "def getDistance(real, predict):\n",
    "    lat1 = real[:,0]\n",
    "    lon1 = real[:,1]\n",
    "    lat2 = predict[:,0]\n",
    "    lon2 = predict[:,1]\n",
    "\n",
    "    return np.array(GeoUtils.GeoUtils.distanceInKm(lat1, lon1,lat2, lon2))"
   ]
  },
  {
   "cell_type": "markdown",
   "metadata": {},
   "source": [
    "# Data Handling"
   ]
  },
  {
   "cell_type": "code",
   "execution_count": 63,
   "metadata": {},
   "outputs": [],
   "source": [
    "data = pd.read_csv(\"Dados/LocTreino_Equipe_4.csv\")\n",
    "\n",
    "bts_data = pd.read_csv(\"Dados/dados_BTSs.csv\")"
   ]
  },
  {
   "cell_type": "code",
   "execution_count": 64,
   "metadata": {},
   "outputs": [
    {
     "data": {
      "text/html": [
       "<div>\n",
       "<style scoped>\n",
       "    .dataframe tbody tr th:only-of-type {\n",
       "        vertical-align: middle;\n",
       "    }\n",
       "\n",
       "    .dataframe tbody tr th {\n",
       "        vertical-align: top;\n",
       "    }\n",
       "\n",
       "    .dataframe thead th {\n",
       "        text-align: right;\n",
       "    }\n",
       "</style>\n",
       "<table border=\"1\" class=\"dataframe\">\n",
       "  <thead>\n",
       "    <tr style=\"text-align: right;\">\n",
       "      <th></th>\n",
       "      <th>lat</th>\n",
       "      <th>lon</th>\n",
       "      <th>bcch</th>\n",
       "      <th>eirp</th>\n",
       "    </tr>\n",
       "  </thead>\n",
       "  <tbody>\n",
       "    <tr>\n",
       "      <th>count</th>\n",
       "      <td>6.000000</td>\n",
       "      <td>6.000000</td>\n",
       "      <td>6.000000</td>\n",
       "      <td>6.000000e+00</td>\n",
       "    </tr>\n",
       "    <tr>\n",
       "      <th>mean</th>\n",
       "      <td>-8.071190</td>\n",
       "      <td>-34.895662</td>\n",
       "      <td>696.500000</td>\n",
       "      <td>5.559000e+01</td>\n",
       "    </tr>\n",
       "    <tr>\n",
       "      <th>std</th>\n",
       "      <td>0.005477</td>\n",
       "      <td>0.006370</td>\n",
       "      <td>54.617763</td>\n",
       "      <td>7.783606e-15</td>\n",
       "    </tr>\n",
       "    <tr>\n",
       "      <th>min</th>\n",
       "      <td>-8.076361</td>\n",
       "      <td>-34.908000</td>\n",
       "      <td>662.000000</td>\n",
       "      <td>5.559000e+01</td>\n",
       "    </tr>\n",
       "    <tr>\n",
       "      <th>25%</th>\n",
       "      <td>-8.075917</td>\n",
       "      <td>-34.894611</td>\n",
       "      <td>667.750000</td>\n",
       "      <td>5.559000e+01</td>\n",
       "    </tr>\n",
       "    <tr>\n",
       "      <th>50%</th>\n",
       "      <td>-8.072139</td>\n",
       "      <td>-34.894597</td>\n",
       "      <td>677.500000</td>\n",
       "      <td>5.559000e+01</td>\n",
       "    </tr>\n",
       "    <tr>\n",
       "      <th>75%</th>\n",
       "      <td>-8.066590</td>\n",
       "      <td>-34.893187</td>\n",
       "      <td>688.000000</td>\n",
       "      <td>5.559000e+01</td>\n",
       "    </tr>\n",
       "    <tr>\n",
       "      <th>max</th>\n",
       "      <td>-8.064583</td>\n",
       "      <td>-34.889444</td>\n",
       "      <td>806.000000</td>\n",
       "      <td>5.559000e+01</td>\n",
       "    </tr>\n",
       "  </tbody>\n",
       "</table>\n",
       "</div>"
      ],
      "text/plain": [
       "            lat        lon        bcch          eirp\n",
       "count  6.000000   6.000000    6.000000  6.000000e+00\n",
       "mean  -8.071190 -34.895662  696.500000  5.559000e+01\n",
       "std    0.005477   0.006370   54.617763  7.783606e-15\n",
       "min   -8.076361 -34.908000  662.000000  5.559000e+01\n",
       "25%   -8.075917 -34.894611  667.750000  5.559000e+01\n",
       "50%   -8.072139 -34.894597  677.500000  5.559000e+01\n",
       "75%   -8.066590 -34.893187  688.000000  5.559000e+01\n",
       "max   -8.064583 -34.889444  806.000000  5.559000e+01"
      ]
     },
     "execution_count": 64,
     "metadata": {},
     "output_type": "execute_result"
    }
   ],
   "source": [
    "bts_data.describe()"
   ]
  },
  {
   "cell_type": "code",
   "execution_count": 65,
   "metadata": {},
   "outputs": [
    {
     "data": {
      "text/html": [
       "<div>\n",
       "<style scoped>\n",
       "    .dataframe tbody tr th:only-of-type {\n",
       "        vertical-align: middle;\n",
       "    }\n",
       "\n",
       "    .dataframe tbody tr th {\n",
       "        vertical-align: top;\n",
       "    }\n",
       "\n",
       "    .dataframe thead th {\n",
       "        text-align: right;\n",
       "    }\n",
       "</style>\n",
       "<table border=\"1\" class=\"dataframe\">\n",
       "  <thead>\n",
       "    <tr style=\"text-align: right;\">\n",
       "      <th></th>\n",
       "      <th>lat</th>\n",
       "      <th>lon</th>\n",
       "      <th>pathBTS1</th>\n",
       "      <th>pathBTS2</th>\n",
       "      <th>pathBTS3</th>\n",
       "      <th>pathBTS4</th>\n",
       "      <th>pathBTS5</th>\n",
       "      <th>pathBTS6</th>\n",
       "      <th>taBTS1</th>\n",
       "      <th>taBTS2</th>\n",
       "      <th>taBTS3</th>\n",
       "      <th>taBTS4</th>\n",
       "      <th>taBTS5</th>\n",
       "      <th>taBTS6</th>\n",
       "    </tr>\n",
       "  </thead>\n",
       "  <tbody>\n",
       "    <tr>\n",
       "      <th>count</th>\n",
       "      <td>1500.000000</td>\n",
       "      <td>1500.000000</td>\n",
       "      <td>1500.000000</td>\n",
       "      <td>1500.000000</td>\n",
       "      <td>1500.000000</td>\n",
       "      <td>1500.000000</td>\n",
       "      <td>1500.000000</td>\n",
       "      <td>1500.000000</td>\n",
       "      <td>1500.000000</td>\n",
       "      <td>1500.000000</td>\n",
       "      <td>1500.000000</td>\n",
       "      <td>1500.000000</td>\n",
       "      <td>1500.000000</td>\n",
       "      <td>1500.0000</td>\n",
       "    </tr>\n",
       "    <tr>\n",
       "      <th>mean</th>\n",
       "      <td>-8.070097</td>\n",
       "      <td>-34.894814</td>\n",
       "      <td>116.654370</td>\n",
       "      <td>119.101165</td>\n",
       "      <td>123.863545</td>\n",
       "      <td>115.814052</td>\n",
       "      <td>121.320526</td>\n",
       "      <td>125.656192</td>\n",
       "      <td>0.663333</td>\n",
       "      <td>1.008733</td>\n",
       "      <td>2.525333</td>\n",
       "      <td>1.099388</td>\n",
       "      <td>1.093333</td>\n",
       "      <td>1.0560</td>\n",
       "    </tr>\n",
       "    <tr>\n",
       "      <th>std</th>\n",
       "      <td>0.004232</td>\n",
       "      <td>0.004354</td>\n",
       "      <td>15.229664</td>\n",
       "      <td>12.666188</td>\n",
       "      <td>9.031316</td>\n",
       "      <td>12.414620</td>\n",
       "      <td>12.552702</td>\n",
       "      <td>13.134365</td>\n",
       "      <td>0.698317</td>\n",
       "      <td>0.863886</td>\n",
       "      <td>0.967117</td>\n",
       "      <td>1.954747</td>\n",
       "      <td>0.856998</td>\n",
       "      <td>0.6692</td>\n",
       "    </tr>\n",
       "    <tr>\n",
       "      <th>min</th>\n",
       "      <td>-8.077570</td>\n",
       "      <td>-34.906830</td>\n",
       "      <td>86.256667</td>\n",
       "      <td>77.256667</td>\n",
       "      <td>88.340000</td>\n",
       "      <td>84.056667</td>\n",
       "      <td>79.523333</td>\n",
       "      <td>89.856667</td>\n",
       "      <td>0.000000</td>\n",
       "      <td>0.000000</td>\n",
       "      <td>1.000000</td>\n",
       "      <td>0.000000</td>\n",
       "      <td>0.000000</td>\n",
       "      <td>0.0000</td>\n",
       "    </tr>\n",
       "    <tr>\n",
       "      <th>25%</th>\n",
       "      <td>-8.073197</td>\n",
       "      <td>-34.897387</td>\n",
       "      <td>106.827500</td>\n",
       "      <td>111.673333</td>\n",
       "      <td>119.190000</td>\n",
       "      <td>106.583750</td>\n",
       "      <td>112.823333</td>\n",
       "      <td>116.077500</td>\n",
       "      <td>0.000000</td>\n",
       "      <td>0.000000</td>\n",
       "      <td>2.000000</td>\n",
       "      <td>0.000000</td>\n",
       "      <td>0.000000</td>\n",
       "      <td>1.0000</td>\n",
       "    </tr>\n",
       "    <tr>\n",
       "      <th>50%</th>\n",
       "      <td>-8.069940</td>\n",
       "      <td>-34.895346</td>\n",
       "      <td>117.156667</td>\n",
       "      <td>120.690000</td>\n",
       "      <td>124.273333</td>\n",
       "      <td>116.273333</td>\n",
       "      <td>122.840000</td>\n",
       "      <td>128.756667</td>\n",
       "      <td>1.000000</td>\n",
       "      <td>1.000000</td>\n",
       "      <td>3.000000</td>\n",
       "      <td>1.000000</td>\n",
       "      <td>1.000000</td>\n",
       "      <td>1.0000</td>\n",
       "    </tr>\n",
       "    <tr>\n",
       "      <th>75%</th>\n",
       "      <td>-8.067113</td>\n",
       "      <td>-34.891169</td>\n",
       "      <td>124.790000</td>\n",
       "      <td>128.808750</td>\n",
       "      <td>130.117083</td>\n",
       "      <td>125.590000</td>\n",
       "      <td>130.423333</td>\n",
       "      <td>135.996250</td>\n",
       "      <td>1.000000</td>\n",
       "      <td>1.000000</td>\n",
       "      <td>3.000000</td>\n",
       "      <td>1.000000</td>\n",
       "      <td>2.000000</td>\n",
       "      <td>2.0000</td>\n",
       "    </tr>\n",
       "    <tr>\n",
       "      <th>max</th>\n",
       "      <td>-8.059339</td>\n",
       "      <td>-34.885067</td>\n",
       "      <td>476.882449</td>\n",
       "      <td>144.890000</td>\n",
       "      <td>145.890000</td>\n",
       "      <td>145.423333</td>\n",
       "      <td>146.890000</td>\n",
       "      <td>150.123333</td>\n",
       "      <td>3.000000</td>\n",
       "      <td>11.090452</td>\n",
       "      <td>5.000000</td>\n",
       "      <td>38.747484</td>\n",
       "      <td>3.000000</td>\n",
       "      <td>2.0000</td>\n",
       "    </tr>\n",
       "  </tbody>\n",
       "</table>\n",
       "</div>"
      ],
      "text/plain": [
       "               lat          lon     pathBTS1     pathBTS2     pathBTS3  \\\n",
       "count  1500.000000  1500.000000  1500.000000  1500.000000  1500.000000   \n",
       "mean     -8.070097   -34.894814   116.654370   119.101165   123.863545   \n",
       "std       0.004232     0.004354    15.229664    12.666188     9.031316   \n",
       "min      -8.077570   -34.906830    86.256667    77.256667    88.340000   \n",
       "25%      -8.073197   -34.897387   106.827500   111.673333   119.190000   \n",
       "50%      -8.069940   -34.895346   117.156667   120.690000   124.273333   \n",
       "75%      -8.067113   -34.891169   124.790000   128.808750   130.117083   \n",
       "max      -8.059339   -34.885067   476.882449   144.890000   145.890000   \n",
       "\n",
       "          pathBTS4     pathBTS5     pathBTS6       taBTS1       taBTS2  \\\n",
       "count  1500.000000  1500.000000  1500.000000  1500.000000  1500.000000   \n",
       "mean    115.814052   121.320526   125.656192     0.663333     1.008733   \n",
       "std      12.414620    12.552702    13.134365     0.698317     0.863886   \n",
       "min      84.056667    79.523333    89.856667     0.000000     0.000000   \n",
       "25%     106.583750   112.823333   116.077500     0.000000     0.000000   \n",
       "50%     116.273333   122.840000   128.756667     1.000000     1.000000   \n",
       "75%     125.590000   130.423333   135.996250     1.000000     1.000000   \n",
       "max     145.423333   146.890000   150.123333     3.000000    11.090452   \n",
       "\n",
       "            taBTS3       taBTS4       taBTS5     taBTS6  \n",
       "count  1500.000000  1500.000000  1500.000000  1500.0000  \n",
       "mean      2.525333     1.099388     1.093333     1.0560  \n",
       "std       0.967117     1.954747     0.856998     0.6692  \n",
       "min       1.000000     0.000000     0.000000     0.0000  \n",
       "25%       2.000000     0.000000     0.000000     1.0000  \n",
       "50%       3.000000     1.000000     1.000000     1.0000  \n",
       "75%       3.000000     1.000000     2.000000     2.0000  \n",
       "max       5.000000    38.747484     3.000000     2.0000  "
      ]
     },
     "execution_count": 65,
     "metadata": {},
     "output_type": "execute_result"
    }
   ],
   "source": [
    "data.drop_duplicates(inplace=True)\n",
    "data.shape\n",
    "data = data.drop(['pontoId'], axis=1)\n",
    "data['taBTS2'] = data['taBTS2'].fillna(data['taBTS2'].mean())\n",
    "data['taBTS4'] = data['taBTS4'].fillna(data['taBTS4'].mean())\n",
    "\n",
    "# bts1_coord = np.tile(bts_data[['lat', 'lon']].iloc[0].values, (1500,1))\n",
    "# data['distBTS1'] = getDistance(data[['lat', 'lon']].values, bts1_coord) \n",
    "\n",
    "# bts2_coord = np.tile(bts_data[['lat', 'lon']].iloc[1].values, (1500,1))\n",
    "# data['distBTS2'] = getDistance(data[['lat', 'lon']].values, bts2_coord) \n",
    "\n",
    "# bts3_coord = np.tile(bts_data[['lat', 'lon']].iloc[2].values, (1500,1))\n",
    "# data['distBTS3'] = getDistance(data[['lat', 'lon']].values, bts3_coord) \n",
    "\n",
    "# bts4_coord = np.tile(bts_data[['lat', 'lon']].iloc[3].values, (1500,1))\n",
    "# data['distBTS4'] = getDistance(data[['lat', 'lon']].values, bts4_coord) \n",
    "\n",
    "# bts5_coord = np.tile(bts_data[['lat', 'lon']].iloc[4].values, (1500,1))\n",
    "# data['distBTS5'] = getDistance(data[['lat', 'lon']].values, bts5_coord) \n",
    "\n",
    "# bts6_coord = np.tile(bts_data[['lat', 'lon']].iloc[5].values, (1500,1))\n",
    "# data['distBTS6'] = getDistance(data[['lat', 'lon']].values, bts6_coord) \n",
    "\n",
    "data.describe()"
   ]
  },
  {
   "cell_type": "code",
   "execution_count": 66,
   "metadata": {},
   "outputs": [],
   "source": [
    "x = data.drop(['lat', 'lon'], axis=1)\n",
    "\n",
    "transformerX = StandardScaler().fit(x)\n",
    "x_scaled = transformerX.transform(x)"
   ]
  },
  {
   "cell_type": "code",
   "execution_count": 67,
   "metadata": {},
   "outputs": [
    {
     "data": {
      "text/html": [
       "<div>\n",
       "<style scoped>\n",
       "    .dataframe tbody tr th:only-of-type {\n",
       "        vertical-align: middle;\n",
       "    }\n",
       "\n",
       "    .dataframe tbody tr th {\n",
       "        vertical-align: top;\n",
       "    }\n",
       "\n",
       "    .dataframe thead th {\n",
       "        text-align: right;\n",
       "    }\n",
       "</style>\n",
       "<table border=\"1\" class=\"dataframe\">\n",
       "  <thead>\n",
       "    <tr style=\"text-align: right;\">\n",
       "      <th></th>\n",
       "      <th>lat</th>\n",
       "      <th>lon</th>\n",
       "    </tr>\n",
       "  </thead>\n",
       "  <tbody>\n",
       "    <tr>\n",
       "      <th>count</th>\n",
       "      <td>1500.000000</td>\n",
       "      <td>1500.000000</td>\n",
       "    </tr>\n",
       "    <tr>\n",
       "      <th>mean</th>\n",
       "      <td>-8.070097</td>\n",
       "      <td>-34.894814</td>\n",
       "    </tr>\n",
       "    <tr>\n",
       "      <th>std</th>\n",
       "      <td>0.004232</td>\n",
       "      <td>0.004354</td>\n",
       "    </tr>\n",
       "    <tr>\n",
       "      <th>min</th>\n",
       "      <td>-8.077570</td>\n",
       "      <td>-34.906830</td>\n",
       "    </tr>\n",
       "    <tr>\n",
       "      <th>25%</th>\n",
       "      <td>-8.073197</td>\n",
       "      <td>-34.897387</td>\n",
       "    </tr>\n",
       "    <tr>\n",
       "      <th>50%</th>\n",
       "      <td>-8.069940</td>\n",
       "      <td>-34.895346</td>\n",
       "    </tr>\n",
       "    <tr>\n",
       "      <th>75%</th>\n",
       "      <td>-8.067113</td>\n",
       "      <td>-34.891169</td>\n",
       "    </tr>\n",
       "    <tr>\n",
       "      <th>max</th>\n",
       "      <td>-8.059339</td>\n",
       "      <td>-34.885067</td>\n",
       "    </tr>\n",
       "  </tbody>\n",
       "</table>\n",
       "</div>"
      ],
      "text/plain": [
       "               lat          lon\n",
       "count  1500.000000  1500.000000\n",
       "mean     -8.070097   -34.894814\n",
       "std       0.004232     0.004354\n",
       "min      -8.077570   -34.906830\n",
       "25%      -8.073197   -34.897387\n",
       "50%      -8.069940   -34.895346\n",
       "75%      -8.067113   -34.891169\n",
       "max      -8.059339   -34.885067"
      ]
     },
     "execution_count": 67,
     "metadata": {},
     "output_type": "execute_result"
    }
   ],
   "source": [
    "y = data[['lat', 'lon']]\n",
    "y.describe()"
   ]
  },
  {
   "cell_type": "markdown",
   "metadata": {},
   "source": [
    "# Testing Regressors"
   ]
  },
  {
   "cell_type": "code",
   "execution_count": 85,
   "metadata": {},
   "outputs": [
    {
     "name": "stdout",
     "output_type": "stream",
     "text": [
      "(1050, 12) (450, 12) (1050, 2) (450, 2)\n"
     ]
    }
   ],
   "source": [
    "transformerY = StandardScaler().fit(y)\n",
    "y_scaled = transformerY.transform(y)\n",
    "\n",
    "\n",
    "X_train, X_test, y_train, y_test = train_test_split(x_scaled, y_scaled, test_size = 0.3)\n",
    "print(X_train.shape, X_test.shape, y_train.shape, y_test.shape)\n",
    "\n",
    "invX = transformerX.inverse_transform\n",
    "invY = transformerY.inverse_transform"
   ]
  },
  {
   "cell_type": "markdown",
   "metadata": {},
   "source": [
    "## XGBoost"
   ]
  },
  {
   "cell_type": "code",
   "execution_count": 18,
   "metadata": {},
   "outputs": [
    {
     "name": "stdout",
     "output_type": "stream",
     "text": [
      "0.0293295902517964\n",
      "[3.13767031e-08 7.58679126e-08]\n"
     ]
    }
   ],
   "source": [
    "model_xgb = xgb.XGBRegressor(colsample_bytree=0.4603, gamma=0.0468, \n",
    "                             learning_rate=0.05, max_depth=3, \n",
    "                             min_child_weight=1.7817, n_estimators=2200,\n",
    "                             reg_alpha=0.4640, reg_lambda=0.8571,\n",
    "                             subsample=0.5213, silent=1,\n",
    "                             random_state =7, nthread = -1)\n",
    "multioutputregressor = MultiOutputRegressor(model_xgb).fit(X_train, y_train)\n",
    "\n",
    "realoutp = invY(multioutputregressor.predict(X_test))\n",
    "realoutr = invY(y_test)                                         \n",
    "#print (realoutp)\n",
    "\n",
    "print(getDistance(realoutr, realoutp).mean())\n",
    "\n",
    "print (np.mean((realoutp - realoutr)**2, axis=0))"
   ]
  },
  {
   "cell_type": "code",
   "execution_count": 19,
   "metadata": {},
   "outputs": [
    {
     "name": "stdout",
     "output_type": "stream",
     "text": [
      "0.021102657528786224\n"
     ]
    }
   ],
   "source": [
    "print(getDistance(realoutr, realoutp).std())"
   ]
  },
  {
   "cell_type": "markdown",
   "metadata": {},
   "source": [
    "## Support Vector Regression"
   ]
  },
  {
   "cell_type": "code",
   "execution_count": 20,
   "metadata": {},
   "outputs": [
    {
     "name": "stdout",
     "output_type": "stream",
     "text": [
      "0.03694918654853605\n"
     ]
    }
   ],
   "source": [
    "svr = svm.SVR()\n",
    "regr = MultiOutputRegressor(svr)\n",
    "regr.fit(X_train,y_train)\n",
    "\n",
    "svmreal = invY(y_test)\n",
    "svmpredict = invY(regr.predict(X_test))\n",
    "\n",
    "print(getDistance(svmreal, svmpredict).mean())"
   ]
  },
  {
   "cell_type": "code",
   "execution_count": 21,
   "metadata": {},
   "outputs": [
    {
     "name": "stdout",
     "output_type": "stream",
     "text": [
      "0.05173412692821598\n"
     ]
    }
   ],
   "source": [
    "print(getDistance(svmreal, svmpredict).std())"
   ]
  },
  {
   "cell_type": "code",
   "execution_count": 22,
   "metadata": {},
   "outputs": [
    {
     "name": "stdout",
     "output_type": "stream",
     "text": [
      "[6.78216123e-08 2.64382042e-07]\n"
     ]
    }
   ],
   "source": [
    "print (np.mean((svmpredict - svmreal)**2, axis=0))"
   ]
  },
  {
   "cell_type": "markdown",
   "metadata": {},
   "source": [
    "## Lasso"
   ]
  },
  {
   "cell_type": "code",
   "execution_count": 23,
   "metadata": {},
   "outputs": [
    {
     "name": "stdout",
     "output_type": "stream",
     "text": [
      "0.08217196084430939\n"
     ]
    }
   ],
   "source": [
    "lasso = MultiOutputRegressor(Lasso(alpha =0.0005, random_state=1))\n",
    "lasso.fit(X_train, y_train)\n",
    "\n",
    "lassoreal = invY(y_test)\n",
    "lassopredict = invY(lasso.predict(X_test))\n",
    "\n",
    "print(getDistance(lassoreal, lassopredict).mean())"
   ]
  },
  {
   "cell_type": "code",
   "execution_count": 24,
   "metadata": {},
   "outputs": [
    {
     "name": "stdout",
     "output_type": "stream",
     "text": [
      "0.07372289318209689\n"
     ]
    }
   ],
   "source": [
    "print(getDistance(lassoreal, lassopredict).std())"
   ]
  },
  {
   "cell_type": "markdown",
   "metadata": {},
   "source": [
    "## Elastic Net "
   ]
  },
  {
   "cell_type": "code",
   "execution_count": 25,
   "metadata": {},
   "outputs": [
    {
     "name": "stdout",
     "output_type": "stream",
     "text": [
      "0.08225079590661227\n"
     ]
    }
   ],
   "source": [
    "elastic = MultiOutputRegressor(ElasticNet(alpha=0.0005, l1_ratio=.9, random_state=3))\n",
    "elastic.fit(X_train, y_train)\n",
    "\n",
    "elasticreal = invY(y_test)\n",
    "elasticpredict = invY(elastic.predict(X_test))\n",
    "\n",
    "print(getDistance(elasticreal, elasticpredict).mean())"
   ]
  },
  {
   "cell_type": "code",
   "execution_count": 26,
   "metadata": {},
   "outputs": [
    {
     "name": "stdout",
     "output_type": "stream",
     "text": [
      "0.07398061841387493\n"
     ]
    }
   ],
   "source": [
    "print(getDistance(elasticreal, elasticpredict).std())"
   ]
  },
  {
   "cell_type": "markdown",
   "metadata": {},
   "source": [
    "## Kernel Ridge"
   ]
  },
  {
   "cell_type": "code",
   "execution_count": 27,
   "metadata": {},
   "outputs": [
    {
     "name": "stdout",
     "output_type": "stream",
     "text": [
      "0.01676995072682593\n"
     ]
    }
   ],
   "source": [
    "kridge = MultiOutputRegressor(KernelRidge(alpha=0.6, kernel='polynomial', degree=2, coef0=2.5))\n",
    "kridge.fit(X_train, y_train)\n",
    "\n",
    "kridgereal = invY(y_test)\n",
    "kridgepredict = invY(kridge.predict(X_test))\n",
    "\n",
    "print(getDistance(kridgereal, kridgepredict).mean())"
   ]
  },
  {
   "cell_type": "code",
   "execution_count": 28,
   "metadata": {},
   "outputs": [
    {
     "name": "stdout",
     "output_type": "stream",
     "text": [
      "0.08605352635598361\n"
     ]
    }
   ],
   "source": [
    "print(getDistance(kridgereal, kridgepredict).std())"
   ]
  },
  {
   "cell_type": "markdown",
   "metadata": {},
   "source": [
    "## Gradient Boosting"
   ]
  },
  {
   "cell_type": "code",
   "execution_count": 29,
   "metadata": {},
   "outputs": [
    {
     "name": "stdout",
     "output_type": "stream",
     "text": [
      "0.012699535049980415\n"
     ]
    }
   ],
   "source": [
    "gboost = MultiOutputRegressor(GradientBoostingRegressor(n_estimators=1000, learning_rate=0.05,\n",
    "                                   max_depth=50, max_features='sqrt',\n",
    "                                   min_samples_leaf=5, min_samples_split=10, \n",
    "                                   loss='huber', random_state =5))\n",
    "gboost.fit(X_train, y_train)\n",
    "\n",
    "gboostreal = invY(y_test)\n",
    "gboostpredict = invY(gboost.predict(X_test))\n",
    "\n",
    "print(getDistance(gboostreal, gboostpredict).mean())"
   ]
  },
  {
   "cell_type": "code",
   "execution_count": 30,
   "metadata": {},
   "outputs": [
    {
     "name": "stdout",
     "output_type": "stream",
     "text": [
      "0.015716018180767573\n"
     ]
    }
   ],
   "source": [
    "print(getDistance(gboostreal, gboostpredict).std())"
   ]
  },
  {
   "cell_type": "code",
   "execution_count": 31,
   "metadata": {},
   "outputs": [],
   "source": [
    "# NAO PEGA NO MAC\n",
    "# lgbm = MultiOutputRegressor(lgb.LGBMRegressor(objective='regression',num_leaves=5,\n",
    "#                               learning_rate=0.05, n_estimators=720,\n",
    "#                               max_bin = 55, bagging_fraction = 0.8,\n",
    "#                               bagging_freq = 5, feature_fraction = 0.2319,\n",
    "#                               feature_fraction_seed=9, bagging_seed=9,\n",
    "#                               min_data_in_leaf =6, min_sum_hessian_in_leaf = 11))\n",
    "\n",
    "# lgbm.fit(X_train, y_train)\n",
    "\n",
    "# lgbmreal = invY(y_test)\n",
    "# lgbmpredict = invY(lgbm.predict(X_test))\n",
    "\n",
    "# print(getDistance(lgbmreal, lgbmpredict).mean())"
   ]
  },
  {
   "cell_type": "markdown",
   "metadata": {},
   "source": [
    "## KNN"
   ]
  },
  {
   "cell_type": "code",
   "execution_count": 86,
   "metadata": {},
   "outputs": [
    {
     "name": "stdout",
     "output_type": "stream",
     "text": [
      "0.015442132949829102\n",
      "0.05305928267274935\n"
     ]
    }
   ],
   "source": [
    "import time\n",
    "knn = MultiOutputRegressor(KNeighborsRegressor(n_neighbors=10))\n",
    "knn.fit(X_train, y_train)\n",
    "\n",
    "knnreal = invY(y_test)\n",
    "start = time.time()\n",
    "knnpredict = invY(knn.predict(X_test))\n",
    "end = time.time()\n",
    "print(end - start)\n",
    "\n",
    "print(getDistance(knnreal, knnpredict).mean())"
   ]
  },
  {
   "cell_type": "code",
   "execution_count": 79,
   "metadata": {},
   "outputs": [
    {
     "name": "stdout",
     "output_type": "stream",
     "text": [
      "0.043858212995693764\n",
      "0.00046072675202584465\n",
      "0.25743618365714444\n"
     ]
    }
   ],
   "source": [
    "print(getDistance(knnreal, knnpredict).std())\n",
    "print(getDistance(knnreal, knnpredict).min())\n",
    "print(getDistance(knnreal, knnpredict).max())"
   ]
  },
  {
   "cell_type": "code",
   "execution_count": 71,
   "metadata": {},
   "outputs": [
    {
     "data": {
      "text/plain": [
       "(array([27., 21., 25., 17.,  9.,  8.,  7.,  5.,  2.,  2.,  8.,  4.,  5.,\n",
       "         2.,  1.,  0.,  1.,  0.,  0.,  3.,  2.,  0.,  0.,  0.,  0.,  0.,\n",
       "         0.,  0.,  0.,  1.]),\n",
       " array([  0.46072675,   9.02657532,  17.59242388,  26.15827244,\n",
       "         34.72412101,  43.28996957,  51.85581813,  60.4216667 ,\n",
       "         68.98751526,  77.55336382,  86.11921239,  94.68506095,\n",
       "        103.25090951, 111.81675808, 120.38260664, 128.9484552 ,\n",
       "        137.51430377, 146.08015233, 154.6460009 , 163.21184946,\n",
       "        171.77769802, 180.34354659, 188.90939515, 197.47524371,\n",
       "        206.04109228, 214.60694084, 223.1727894 , 231.73863797,\n",
       "        240.30448653, 248.87033509, 257.43618366]),\n",
       " <a list of 30 Patch objects>)"
      ]
     },
     "execution_count": 71,
     "metadata": {},
     "output_type": "execute_result"
    },
    {
     "data": {
      "image/png": "[encoded data removed]",
      "text/plain": [
       "<Figure size 432x288 with 1 Axes>"
      ]
     },
     "metadata": {},
     "output_type": "display_data"
    }
   ],
   "source": [
    "plt.title('Histogram of errors')\n",
    "plt.ylabel('# of samples')\n",
    "plt.xlabel('Error (m)')\n",
    "\n",
    "plt.hist(getDistance(knnreal, knnpredict)*1000, 30)"
   ]
  },
  {
   "cell_type": "code",
   "execution_count": 73,
   "metadata": {},
   "outputs": [],
   "source": [
    "np.save('knn_distances.npy',getDistance(knnreal, knnpredict)*1000)"
   ]
  },
  {
   "cell_type": "code",
   "execution_count": 34,
   "metadata": {},
   "outputs": [
    {
     "data": {
      "image/png": "[encoded data removed]",
      "text/plain": [
       "<Figure size 480x320 with 1 Axes>"
      ]
     },
     "metadata": {},
     "output_type": "display_data"
    },
    {
     "data": {
      "image/png": "[encoded data removed]",
      "text/plain": [
       "<Figure size 480x320 with 1 Axes>"
      ]
     },
     "metadata": {},
     "output_type": "display_data"
    }
   ],
   "source": [
    "figure(num=None, figsize=(6, 4), dpi=80, facecolor='w', edgecolor='k')\n",
    "\n",
    "plt.scatter(knnreal[:,0], knnreal[:,1], c='blue')\n",
    "plt.margins(x=0.0, y=-0.25)\n",
    "plt.show()\n",
    "\n",
    "figure(num=None, figsize=(6, 4), dpi=80, facecolor='w', edgecolor='k')\n",
    "plt.scatter(knnpredict[:,0], knnpredict[:,1], c='red')\n",
    "plt.margins(x=0.0, y=-0.25)\n",
    "plt.show()"
   ]
  },
  {
   "cell_type": "code",
   "execution_count": 35,
   "metadata": {},
   "outputs": [],
   "source": [
    "class AveragingModels(BaseEstimator, RegressorMixin, TransformerMixin):\n",
    "    def __init__(self, models):\n",
    "        self.models = models\n",
    "        \n",
    "    # we define clones of the original models to fit the data in\n",
    "    def fit(self, X, y):\n",
    "        self.models_ = [clone(x) for x in self.models]\n",
    "        \n",
    "        # Train cloned base models\n",
    "        for model in self.models_:\n",
    "            model.fit(X, y)\n",
    "\n",
    "        return self\n",
    "    \n",
    "    #Now we do the predictions for cloned models and average them\n",
    "    def predict(self, X):\n",
    "        predictions = np.column_stack([\n",
    "            model.predict(X) for model in self.models_\n",
    "        ])\n",
    "        return np.mean(predictions, axis=1)  "
   ]
  },
  {
   "cell_type": "code",
   "execution_count": 36,
   "metadata": {},
   "outputs": [
    {
     "name": "stdout",
     "output_type": "stream",
     "text": [
      "0.025004175037756766\n"
     ]
    }
   ],
   "source": [
    "knn = KNeighborsRegressor(n_neighbors=5)\n",
    "gboost = GradientBoostingRegressor(n_estimators=1000, learning_rate=0.05,\n",
    "                                   max_depth=50, max_features='sqrt',\n",
    "                                   min_samples_leaf=5, min_samples_split=10, \n",
    "                                   loss='huber', random_state =5)\n",
    "svr = svm.SVR()\n",
    "model_xgb = xgb.XGBRegressor(colsample_bytree=0.4603, gamma=0.0468, \n",
    "                             learning_rate=0.05, max_depth=3, \n",
    "                             min_child_weight=1.7817, n_estimators=2200,\n",
    "                             reg_alpha=0.4640, reg_lambda=0.8571,\n",
    "                             subsample=0.5213, silent=1,\n",
    "                             random_state =7, nthread = -1)\n",
    "\n",
    "\n",
    "averaged_models = MultiOutputRegressor(AveragingModels(models = (knn, svr, model_xgb)))\n",
    "\n",
    "averaged_models.fit(X_train, y_train)\n",
    "\n",
    "avgreal = invY(y_test)\n",
    "avgpredict = invY(averaged_models.predict(X_test))\n",
    "\n",
    "print(getDistance(avgreal, avgpredict).mean())"
   ]
  },
  {
   "cell_type": "code",
   "execution_count": 37,
   "metadata": {},
   "outputs": [
    {
     "name": "stdout",
     "output_type": "stream",
     "text": [
      "0.024407487880919267\n"
     ]
    }
   ],
   "source": [
    "print(getDistance(avgreal, avgpredict).std())"
   ]
  },
  {
   "cell_type": "code",
   "execution_count": 38,
   "metadata": {},
   "outputs": [],
   "source": [
    "class StackingAveragedModels(BaseEstimator, RegressorMixin, TransformerMixin):\n",
    "    def __init__(self, base_models, meta_model, n_folds=5):\n",
    "        self.base_models = base_models\n",
    "        self.meta_model = meta_model\n",
    "        self.n_folds = n_folds\n",
    "   \n",
    "    # We again fit the data on clones of the original models\n",
    "    def fit(self, X, y):\n",
    "        self.base_models_ = [list() for x in self.base_models]\n",
    "        self.meta_model_ = clone(self.meta_model)\n",
    "        kfold = KFold(n_splits=self.n_folds, shuffle=True, random_state=156)\n",
    "        \n",
    "        # Train cloned base models then create out-of-fold predictions\n",
    "        # that are needed to train the cloned meta-model\n",
    "        out_of_fold_predictions = np.zeros((X.shape[0], len(self.base_models)))\n",
    "        for i, model in enumerate(self.base_models):\n",
    "            for train_index, holdout_index in kfold.split(X, y):\n",
    "                instance = clone(model)\n",
    "                self.base_models_[i].append(instance)\n",
    "                instance.fit(X[train_index], y[train_index])\n",
    "                y_pred = instance.predict(X[holdout_index])\n",
    "                out_of_fold_predictions[holdout_index, i] = y_pred\n",
    "                \n",
    "        # Now train the cloned  meta-model using the out-of-fold predictions as new feature\n",
    "        self.meta_model_.fit(out_of_fold_predictions, y)\n",
    "        return self\n",
    "   \n",
    "    #Do the predictions of all base models on the test data and use the averaged predictions as \n",
    "    #meta-features for the final prediction which is done by the meta-model\n",
    "    def predict(self, X):\n",
    "        meta_features = np.column_stack([\n",
    "            np.column_stack([model.predict(X) for model in base_models]).mean(axis=1)\n",
    "            for base_models in self.base_models_ ])\n",
    "        return self.meta_model_.predict(meta_features)"
   ]
  },
  {
   "cell_type": "code",
   "execution_count": 39,
   "metadata": {},
   "outputs": [
    {
     "name": "stdout",
     "output_type": "stream",
     "text": [
      "0.014772478857695\n"
     ]
    }
   ],
   "source": [
    "knn = KNeighborsRegressor(n_neighbors=3)\n",
    "knn2 = KNeighborsRegressor(n_neighbors=3)\n",
    "\n",
    "gboost = GradientBoostingRegressor(n_estimators=1000, learning_rate=0.05,\n",
    "                                   max_depth=50, max_features='sqrt',\n",
    "                                   min_samples_leaf=5, min_samples_split=10, \n",
    "                                   loss='huber', random_state =5)\n",
    "svr = svm.SVR()\n",
    "model_xgb = xgb.XGBRegressor(colsample_bytree=0.4603, gamma=0.0468, \n",
    "                             learning_rate=0.05, max_depth=3, \n",
    "                             min_child_weight=1.7817, n_estimators=2200,\n",
    "                             reg_alpha=0.4640, reg_lambda=0.8571,\n",
    "                             subsample=0.5213, silent=1,\n",
    "                             random_state =7, nthread = -1)\n",
    "gboost2 = GradientBoostingRegressor(n_estimators=1000, learning_rate=0.05,\n",
    "                                   max_depth=4, max_features='sqrt',\n",
    "                                   min_samples_leaf=5, min_samples_split=10, \n",
    "                                   loss='huber', random_state =5)\n",
    "\n",
    "gboost3 = GradientBoostingRegressor(n_estimators=1000, learning_rate=0.05,\n",
    "                                   max_depth=4, max_features='sqrt',\n",
    "                                   min_samples_leaf=5, min_samples_split=10, \n",
    "                                   loss='huber', random_state =5)\n",
    "\n",
    "lasso = Lasso(alpha =0.0005, random_state=1)\n",
    "\n",
    "stack = StackingAveragedModels(base_models = (gboost, svr, knn), meta_model=lasso)\n",
    "\n",
    "stack2 = MultiOutputRegressor(StackingAveragedModels(base_models = (stack, knn2, gboost2), meta_model=gboost3))\n",
    "\n",
    "stack2.fit(X_train, y_train)\n",
    "\n",
    "stackreal = invY(y_test)\n",
    "stackpredict = invY(stack2.predict(X_test))\n",
    "\n",
    "print(getDistance(stackreal, stackpredict).mean())"
   ]
  },
  {
   "cell_type": "code",
   "execution_count": 40,
   "metadata": {},
   "outputs": [
    {
     "name": "stdout",
     "output_type": "stream",
     "text": [
      "0.016088354886221214\n"
     ]
    },
    {
     "name": "stderr",
     "output_type": "stream",
     "text": [
      "/Library/Frameworks/Python.framework/Versions/3.5/lib/python3.5/site-packages/matplotlib/axes/_axes.py:6499: MatplotlibDeprecationWarning: \n",
      "The 'normed' kwarg was deprecated in Matplotlib 2.1 and will be removed in 3.1. Use 'density' instead.\n",
      "  alternative=\"'density'\", removal=\"3.1\")\n"
     ]
    },
    {
     "data": {
      "text/plain": [
       "(array([29., 33., 27., 16., 13., 10.,  4.,  5.,  4.,  2.,  2.,  1.,  0.,\n",
       "         0.,  0.,  0.,  1.,  0.,  0.,  1.,  0.,  0.,  1.,  0.,  0.,  0.,\n",
       "         0.,  0.,  0.,  1.]),\n",
       " array([0.00045681, 0.00445881, 0.0084608 , 0.0124628 , 0.0164648 ,\n",
       "        0.0204668 , 0.0244688 , 0.0284708 , 0.03247279, 0.03647479,\n",
       "        0.04047679, 0.04447879, 0.04848079, 0.05248279, 0.05648478,\n",
       "        0.06048678, 0.06448878, 0.06849078, 0.07249278, 0.07649478,\n",
       "        0.08049677, 0.08449877, 0.08850077, 0.09250277, 0.09650477,\n",
       "        0.10050677, 0.10450877, 0.10851076, 0.11251276, 0.11651476,\n",
       "        0.12051676]),\n",
       " <a list of 30 Patch objects>)"
      ]
     },
     "execution_count": 40,
     "metadata": {},
     "output_type": "execute_result"
    },
    {
     "data": {
      "image/png": "[encoded data removed]",
      "text/plain": [
       "<Figure size 432x288 with 1 Axes>"
      ]
     },
     "metadata": {},
     "output_type": "display_data"
    }
   ],
   "source": [
    "print(getDistance(stackreal, stackpredict).std())\n",
    "\n",
    "plt.hist(getDistance(stackreal, stackpredict), normed=False, bins=30)"
   ]
  },
  {
   "cell_type": "code",
   "execution_count": 41,
   "metadata": {},
   "outputs": [
    {
     "data": {
      "image/png": "[encoded data removed]",
      "text/plain": [
       "<Figure size 480x320 with 1 Axes>"
      ]
     },
     "metadata": {},
     "output_type": "display_data"
    },
    {
     "data": {
      "image/png": "[encoded data removed]",
      "text/plain": [
       "<Figure size 480x320 with 1 Axes>"
      ]
     },
     "metadata": {},
     "output_type": "display_data"
    }
   ],
   "source": [
    "figure(num=None, figsize=(6, 4), dpi=80, facecolor='w', edgecolor='k')\n",
    "\n",
    "plt.scatter(stackreal[:,0], stackreal[:,1], c='blue')\n",
    "plt.margins(x=0.0, y=-0.25)\n",
    "plt.show()\n",
    "\n",
    "figure(num=None, figsize=(6, 4), dpi=80, facecolor='w', edgecolor='k')\n",
    "plt.scatter(stackpredict[:,0], stackpredict[:,1], c='red')\n",
    "plt.margins(x=0.0, y=-0.25)\n",
    "plt.show()"
   ]
  },
  {
   "cell_type": "code",
   "execution_count": null,
   "metadata": {},
   "outputs": [],
   "source": []
  }
 ],
 "metadata": {
  "kernelspec": {
   "display_name": "Python 3",
   "language": "python",
   "name": "python3"
  },
  "language_info": {
   "codemirror_mode": {
    "name": "ipython",
    "version": 3
   },
   "file_extension": ".py",
   "mimetype": "text/x-python",
   "name": "python",
   "nbconvert_exporter": "python",
   "pygments_lexer": "ipython3",
   "version": "3.5.1"
  }
 },
 "nbformat": 4,
 "nbformat_minor": 2
}
