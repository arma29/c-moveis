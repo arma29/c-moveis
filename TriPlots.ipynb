{
 "cells": [
  {
   "cell_type": "markdown",
   "metadata": {},
   "source": [
    "# Trilateration Graphics\n",
    "This is an auto-generated notebook."
   ]
  },
  {
   "cell_type": "code",
   "execution_count": 5,
   "metadata": {},
   "outputs": [],
   "source": [
    "#!/usr/bin/env python\n",
    "import numpy as np\n",
    "import matplotlib.mlab as mlab\n",
    "import matplotlib.pyplot as plt\n",
    "import pandas as pd"
   ]
  },
  {
   "cell_type": "code",
   "execution_count": 22,
   "metadata": {},
   "outputs": [],
   "source": [
    "def getDistance(real, predict):\n",
    "    lat1 = real[:,0]\n",
    "    lon1 = real[:,1]\n",
    "    lat2 = predict[:,0]\n",
    "    lon2 = predict[:,1]\n",
    "\n",
    "    return np.array(GeoUtils.GeoUtils.distanceInKm(lat1, lon1,lat2, lon2))"
   ]
  },
  {
   "cell_type": "code",
   "execution_count": 23,
   "metadata": {},
   "outputs": [],
   "source": [
    "data_real = pd.read_csv(\"Dados/LocTreino_Equipe_4.csv\")\n",
    "\n",
    "# bts_data = pd.read_csv(\"Dados/dados_BTSs.csv\")\n",
    "data_1 = pd.read_csv(\"Dados/Resultados_1.csv\") #C232Hata\n",
    "data_2 = pd.read_csv(\"Dados/Resultados_2.csv\") #SUI Model\n",
    "data_3 = pd.read_csv(\"Dados/Resultados_3.csv\") #FSPL with sqrt\n",
    "data_4 = pd.read_csv(\"Dados/Resultados_4.csv\") #Trilat + MachineL"
   ]
  },
  {
   "cell_type": "code",
   "execution_count": 24,
   "metadata": {},
   "outputs": [
    {
     "ename": "SyntaxError",
     "evalue": "unexpected EOF while parsing (<ipython-input-24-733f644517de>, line 1)",
     "output_type": "error",
     "traceback": [
      "\u001b[0;36m  File \u001b[0;32m\"<ipython-input-24-733f644517de>\"\u001b[0;36m, line \u001b[0;32m1\u001b[0m\n\u001b[0;31m    plt.hist(getDistance((data_real['lat'],data_real['lon']), (data_1['lat'],data_1['lon']), normed=False, bins=30)\u001b[0m\n\u001b[0m                                                                                                                   ^\u001b[0m\n\u001b[0;31mSyntaxError\u001b[0m\u001b[0;31m:\u001b[0m unexpected EOF while parsing\n"
     ]
    }
   ],
   "source": [
    "plt.hist(getDistance((data_real['lat'],data_real['lon']), (data_1['lat'],data_1['lon']), normed=False, bins=30)"
   ]
  },
  {
   "cell_type": "code",
   "execution_count": 26,
   "metadata": {},
   "outputs": [
    {
     "data": {
      "text/html": [
       "<div>\n",
       "<style scoped>\n",
       "    .dataframe tbody tr th:only-of-type {\n",
       "        vertical-align: middle;\n",
       "    }\n",
       "\n",
       "    .dataframe tbody tr th {\n",
       "        vertical-align: top;\n",
       "    }\n",
       "\n",
       "    .dataframe thead th {\n",
       "        text-align: right;\n",
       "    }\n",
       "</style>\n",
       "<table border=\"1\" class=\"dataframe\">\n",
       "  <thead>\n",
       "    <tr style=\"text-align: right;\">\n",
       "      <th></th>\n",
       "      <th>pontoId</th>\n",
       "      <th>lat</th>\n",
       "      <th>lon</th>\n",
       "      <th>lat_pred</th>\n",
       "      <th>lon_pred</th>\n",
       "      <th>erro_loc</th>\n",
       "    </tr>\n",
       "  </thead>\n",
       "  <tbody>\n",
       "    <tr>\n",
       "      <th>count</th>\n",
       "      <td>1500.000000</td>\n",
       "      <td>1500.000000</td>\n",
       "      <td>1500.000000</td>\n",
       "      <td>1500.000000</td>\n",
       "      <td>1500.000000</td>\n",
       "      <td>1500.000000</td>\n",
       "    </tr>\n",
       "    <tr>\n",
       "      <th>mean</th>\n",
       "      <td>1471.292667</td>\n",
       "      <td>-8.070097</td>\n",
       "      <td>-34.894814</td>\n",
       "      <td>-6.451036</td>\n",
       "      <td>-27.893053</td>\n",
       "      <td>inf</td>\n",
       "    </tr>\n",
       "    <tr>\n",
       "      <th>std</th>\n",
       "      <td>849.057388</td>\n",
       "      <td>0.004232</td>\n",
       "      <td>0.004354</td>\n",
       "      <td>3.233317</td>\n",
       "      <td>13.980237</td>\n",
       "      <td>NaN</td>\n",
       "    </tr>\n",
       "    <tr>\n",
       "      <th>min</th>\n",
       "      <td>2.000000</td>\n",
       "      <td>-8.077570</td>\n",
       "      <td>-34.906830</td>\n",
       "      <td>-8.085337</td>\n",
       "      <td>-34.913251</td>\n",
       "      <td>8.822389</td>\n",
       "    </tr>\n",
       "    <tr>\n",
       "      <th>25%</th>\n",
       "      <td>746.750000</td>\n",
       "      <td>-8.073197</td>\n",
       "      <td>-34.897387</td>\n",
       "      <td>-8.072777</td>\n",
       "      <td>-34.897150</td>\n",
       "      <td>270.741119</td>\n",
       "    </tr>\n",
       "    <tr>\n",
       "      <th>50%</th>\n",
       "      <td>1464.500000</td>\n",
       "      <td>-8.069940</td>\n",
       "      <td>-34.895346</td>\n",
       "      <td>-8.068564</td>\n",
       "      <td>-34.893461</td>\n",
       "      <td>524.315963</td>\n",
       "    </tr>\n",
       "    <tr>\n",
       "      <th>75%</th>\n",
       "      <td>2190.250000</td>\n",
       "      <td>-8.067113</td>\n",
       "      <td>-34.891169</td>\n",
       "      <td>-8.064246</td>\n",
       "      <td>-34.888792</td>\n",
       "      <td>1210.813473</td>\n",
       "    </tr>\n",
       "    <tr>\n",
       "      <th>max</th>\n",
       "      <td>2955.000000</td>\n",
       "      <td>-8.059339</td>\n",
       "      <td>-34.885067</td>\n",
       "      <td>0.000000</td>\n",
       "      <td>0.000000</td>\n",
       "      <td>inf</td>\n",
       "    </tr>\n",
       "  </tbody>\n",
       "</table>\n",
       "</div>"
      ],
      "text/plain": [
       "           pontoId          lat          lon     lat_pred     lon_pred  \\\n",
       "count  1500.000000  1500.000000  1500.000000  1500.000000  1500.000000   \n",
       "mean   1471.292667    -8.070097   -34.894814    -6.451036   -27.893053   \n",
       "std     849.057388     0.004232     0.004354     3.233317    13.980237   \n",
       "min       2.000000    -8.077570   -34.906830    -8.085337   -34.913251   \n",
       "25%     746.750000    -8.073197   -34.897387    -8.072777   -34.897150   \n",
       "50%    1464.500000    -8.069940   -34.895346    -8.068564   -34.893461   \n",
       "75%    2190.250000    -8.067113   -34.891169    -8.064246   -34.888792   \n",
       "max    2955.000000    -8.059339   -34.885067     0.000000     0.000000   \n",
       "\n",
       "          erro_loc  \n",
       "count  1500.000000  \n",
       "mean           inf  \n",
       "std            NaN  \n",
       "min       8.822389  \n",
       "25%     270.741119  \n",
       "50%     524.315963  \n",
       "75%    1210.813473  \n",
       "max            inf  "
      ]
     },
     "execution_count": 26,
     "metadata": {},
     "output_type": "execute_result"
    }
   ],
   "source": [
    "data_2.describe()"
   ]
  },
  {
   "cell_type": "code",
   "execution_count": null,
   "metadata": {},
   "outputs": [],
   "source": []
  }
 ],
 "metadata": {
  "kernelspec": {
   "display_name": "Python 2",
   "language": "python",
   "name": "python2"
  },
  "language_info": {
   "codemirror_mode": {
    "name": "ipython",
    "version": 2
   },
   "file_extension": ".py",
   "mimetype": "text/x-python",
   "name": "python",
   "nbconvert_exporter": "python",
   "pygments_lexer": "ipython2",
   "version": "2.7.12"
  }
 },
 "nbformat": 4,
 "nbformat_minor": 2
}
