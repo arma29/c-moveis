{
 "cells": [
  {
   "cell_type": "markdown",
   "metadata": {},
   "source": [
    "# Trilateration Graphics\n",
    "This is an auto-generated notebook."
   ]
  },
  {
   "cell_type": "code",
   "execution_count": 3,
   "metadata": {},
   "outputs": [],
   "source": [
    "#!/usr/bin/env python\n",
    "import numpy as np\n",
    "import matplotlib.mlab as mlab\n",
    "import matplotlib.pyplot as plt\n",
    "import pandas as pd\n",
    "import seaborn as sns\n",
    "import xgboost as xgb\n",
    "from sklearn import svm\n",
    "from Utils import GeoUtils"
   ]
  },
  {
   "cell_type": "code",
   "execution_count": 4,
   "metadata": {},
   "outputs": [],
   "source": [
    "def getDistance(real, predict):\n",
    "    lat1 = real[:,0]\n",
    "    lon1 = real[:,1]\n",
    "    lat2 = predict[:,0]\n",
    "    lon2 = predict[:,1]\n",
    "\n",
    "    return np.array(GeoUtils.GeoUtils.distanceInKm(lat1, lon1,lat2, lon2))"
   ]
  },
  {
   "cell_type": "code",
   "execution_count": 5,
   "metadata": {},
   "outputs": [],
   "source": [
    "data_real = pd.read_csv(\"Dados/LocTreino_Equipe_4.csv\")\n",
    "\n",
    "# bts_data = pd.read_csv(\"Dados/dados_BTSs.csv\")\n",
    "data_1 = pd.read_csv(\"Dados/Resultados_1.csv\") #C232Hata\n",
    "data_1 = data_1[data_1.erro_loc != float(\"inf\")]\n",
    "\n",
    "data_2 = pd.read_csv(\"Dados/Resultados_2.csv\") #SUI Model\n",
    "data_2 = data_2[data_2.erro_loc != float(\"inf\")]\n",
    "\n",
    "data_3 = pd.read_csv(\"Dados/Resultados_3.csv\") #FSPL with sqrt\n",
    "data_4 = pd.read_csv(\"Dados/Resultados_4.csv\") #Trilat + MachineL"
   ]
  },
  {
   "cell_type": "code",
   "execution_count": 6,
   "metadata": {},
   "outputs": [
    {
     "name": "stderr",
     "output_type": "stream",
     "text": [
      "/usr/local/lib/python2.7/dist-packages/ipykernel_launcher.py:2: FutureWarning: Method .as_matrix will be removed in a future version. Use .values instead.\n",
      "  \n",
      "/usr/local/lib/python2.7/dist-packages/ipykernel_launcher.py:4: FutureWarning: Method .as_matrix will be removed in a future version. Use .values instead.\n",
      "  after removing the cwd from sys.path.\n",
      "/usr/local/lib/python2.7/dist-packages/ipykernel_launcher.py:5: FutureWarning: Method .as_matrix will be removed in a future version. Use .values instead.\n",
      "  \"\"\"\n",
      "/usr/local/lib/python2.7/dist-packages/ipykernel_launcher.py:7: FutureWarning: Method .as_matrix will be removed in a future version. Use .values instead.\n",
      "  import sys\n",
      "/usr/local/lib/python2.7/dist-packages/ipykernel_launcher.py:8: FutureWarning: Method .as_matrix will be removed in a future version. Use .values instead.\n",
      "  \n",
      "/usr/local/lib/python2.7/dist-packages/ipykernel_launcher.py:10: FutureWarning: Method .as_matrix will be removed in a future version. Use .values instead.\n",
      "  # Remove the CWD from sys.path while we load stuff.\n",
      "/usr/local/lib/python2.7/dist-packages/ipykernel_launcher.py:11: FutureWarning: Method .as_matrix will be removed in a future version. Use .values instead.\n",
      "  # This is added back by InteractiveShellApp.init_path()\n"
     ]
    }
   ],
   "source": [
    "# plt.hist(getDistance((data_real['lat'],data_real['lon']), (data_1['lat'],data_1['lon']), normed=False, bins=30)\n",
    "sreal = data_real.as_matrix(columns=['lat','lon']) #3 and 4\n",
    "\n",
    "spred1 = data_1.as_matrix(columns=['lat_pred', 'lon_pred'])\n",
    "sreal1 = data_1.as_matrix(columns=['lat','lon'])\n",
    "\n",
    "spred2 = data_2.as_matrix(columns=['lat_pred', 'lon_pred'])\n",
    "sreal2 = data_2.as_matrix(columns=['lat','lon'])\n",
    "\n",
    "spred3 = data_3.as_matrix(columns=['lat_pred', 'lon_pred'])\n",
    "spred4 = data_4.as_matrix(columns=['lat_pred', 'lon_pred'])\n",
    "\n",
    "\n",
    "# print getDistance()"
   ]
  },
  {
   "cell_type": "code",
   "execution_count": 7,
   "metadata": {},
   "outputs": [
    {
     "data": {
      "text/html": [
       "<div>\n",
       "<style scoped>\n",
       "    .dataframe tbody tr th:only-of-type {\n",
       "        vertical-align: middle;\n",
       "    }\n",
       "\n",
       "    .dataframe tbody tr th {\n",
       "        vertical-align: top;\n",
       "    }\n",
       "\n",
       "    .dataframe thead th {\n",
       "        text-align: right;\n",
       "    }\n",
       "</style>\n",
       "<table border=\"1\" class=\"dataframe\">\n",
       "  <thead>\n",
       "    <tr style=\"text-align: right;\">\n",
       "      <th></th>\n",
       "      <th>pontoId</th>\n",
       "      <th>lat</th>\n",
       "      <th>lon</th>\n",
       "      <th>lat_pred</th>\n",
       "      <th>lon_pred</th>\n",
       "      <th>erro_loc</th>\n",
       "    </tr>\n",
       "  </thead>\n",
       "  <tbody>\n",
       "    <tr>\n",
       "      <th>count</th>\n",
       "      <td>585.000000</td>\n",
       "      <td>585.000000</td>\n",
       "      <td>585.000000</td>\n",
       "      <td>585.000000</td>\n",
       "      <td>585.000000</td>\n",
       "      <td>585.000000</td>\n",
       "    </tr>\n",
       "    <tr>\n",
       "      <th>mean</th>\n",
       "      <td>1691.234188</td>\n",
       "      <td>-8.068906</td>\n",
       "      <td>-34.894743</td>\n",
       "      <td>-8.069227</td>\n",
       "      <td>-34.893645</td>\n",
       "      <td>709.314639</td>\n",
       "    </tr>\n",
       "    <tr>\n",
       "      <th>std</th>\n",
       "      <td>999.746155</td>\n",
       "      <td>0.005207</td>\n",
       "      <td>0.005818</td>\n",
       "      <td>0.003546</td>\n",
       "      <td>0.003484</td>\n",
       "      <td>380.236323</td>\n",
       "    </tr>\n",
       "    <tr>\n",
       "      <th>min</th>\n",
       "      <td>2.000000</td>\n",
       "      <td>-8.077570</td>\n",
       "      <td>-34.906830</td>\n",
       "      <td>-8.079167</td>\n",
       "      <td>-34.905628</td>\n",
       "      <td>44.250925</td>\n",
       "    </tr>\n",
       "    <tr>\n",
       "      <th>25%</th>\n",
       "      <td>637.000000</td>\n",
       "      <td>-8.073983</td>\n",
       "      <td>-34.899921</td>\n",
       "      <td>-8.071551</td>\n",
       "      <td>-34.895531</td>\n",
       "      <td>417.102818</td>\n",
       "    </tr>\n",
       "    <tr>\n",
       "      <th>50%</th>\n",
       "      <td>1890.000000</td>\n",
       "      <td>-8.068806</td>\n",
       "      <td>-34.895985</td>\n",
       "      <td>-8.069270</td>\n",
       "      <td>-34.893391</td>\n",
       "      <td>668.498825</td>\n",
       "    </tr>\n",
       "    <tr>\n",
       "      <th>75%</th>\n",
       "      <td>2619.000000</td>\n",
       "      <td>-8.064383</td>\n",
       "      <td>-34.889503</td>\n",
       "      <td>-8.066817</td>\n",
       "      <td>-34.891174</td>\n",
       "      <td>937.223299</td>\n",
       "    </tr>\n",
       "    <tr>\n",
       "      <th>max</th>\n",
       "      <td>2955.000000</td>\n",
       "      <td>-8.059339</td>\n",
       "      <td>-34.885067</td>\n",
       "      <td>-8.059690</td>\n",
       "      <td>-34.885283</td>\n",
       "      <td>1894.253110</td>\n",
       "    </tr>\n",
       "  </tbody>\n",
       "</table>\n",
       "</div>"
      ],
      "text/plain": [
       "           pontoId         lat         lon    lat_pred    lon_pred  \\\n",
       "count   585.000000  585.000000  585.000000  585.000000  585.000000   \n",
       "mean   1691.234188   -8.068906  -34.894743   -8.069227  -34.893645   \n",
       "std     999.746155    0.005207    0.005818    0.003546    0.003484   \n",
       "min       2.000000   -8.077570  -34.906830   -8.079167  -34.905628   \n",
       "25%     637.000000   -8.073983  -34.899921   -8.071551  -34.895531   \n",
       "50%    1890.000000   -8.068806  -34.895985   -8.069270  -34.893391   \n",
       "75%    2619.000000   -8.064383  -34.889503   -8.066817  -34.891174   \n",
       "max    2955.000000   -8.059339  -34.885067   -8.059690  -34.885283   \n",
       "\n",
       "          erro_loc  \n",
       "count   585.000000  \n",
       "mean    709.314639  \n",
       "std     380.236323  \n",
       "min      44.250925  \n",
       "25%     417.102818  \n",
       "50%     668.498825  \n",
       "75%     937.223299  \n",
       "max    1894.253110  "
      ]
     },
     "execution_count": 7,
     "metadata": {},
     "output_type": "execute_result"
    }
   ],
   "source": [
    "data_1.describe()"
   ]
  },
  {
   "cell_type": "code",
   "execution_count": 8,
   "metadata": {},
   "outputs": [
    {
     "name": "stderr",
     "output_type": "stream",
     "text": [
      "/home/arnaldo/.local/lib/python2.7/site-packages/matplotlib/axes/_axes.py:6571: UserWarning: The 'normed' kwarg is deprecated, and has been replaced by the 'density' kwarg.\n",
      "  warnings.warn(\"The 'normed' kwarg is deprecated, and has been \"\n"
     ]
    },
    {
     "data": {
      "text/plain": [
       "(array([  8.,  20.,  19.,  22.,  38.,  35.,  38.,  43.,  35.,  31.,  41.,\n",
       "         34.,  33.,  30.,  27.,  19.,  15.,  19.,  19.,  12.,   8.,   7.,\n",
       "          5.,   3.,   5.,   6.,   7.,   1.,   2.,   3.]),\n",
       " array([   44.0138143 ,   105.59430555,   167.1747968 ,   228.75528805,\n",
       "          290.3357793 ,   351.91627055,   413.49676179,   475.07725304,\n",
       "          536.65774429,   598.23823554,   659.81872679,   721.39921804,\n",
       "          782.97970929,   844.56020054,   906.14069179,   967.72118304,\n",
       "         1029.30167429,  1090.88216553,  1152.46265678,  1214.04314803,\n",
       "         1275.62363928,  1337.20413053,  1398.78462178,  1460.36511303,\n",
       "         1521.94560428,  1583.52609553,  1645.10658678,  1706.68707802,\n",
       "         1768.26756927,  1829.84806052,  1891.42855177]),\n",
       " <a list of 30 Patch objects>)"
      ]
     },
     "execution_count": 8,
     "metadata": {},
     "output_type": "execute_result"
    },
    {
     "data": {
      "image/png": "[encoded data removed]",
      "text/plain": [
       "<Figure size 432x288 with 1 Axes>"
      ]
     },
     "metadata": {
      "needs_background": "light"
     },
     "output_type": "display_data"
    }
   ],
   "source": [
    "plt.title('Histogram of errors (C232Hata)')\n",
    "plt.ylabel('# of samples')\n",
    "plt.xlabel('Error (m)')\n",
    "\n",
    "plt.hist(getDistance(sreal1, spred1)*1000, normed=False, bins=30)"
   ]
  },
  {
   "cell_type": "code",
   "execution_count": 9,
   "metadata": {},
   "outputs": [
    {
     "data": {
      "text/html": [
       "<div>\n",
       "<style scoped>\n",
       "    .dataframe tbody tr th:only-of-type {\n",
       "        vertical-align: middle;\n",
       "    }\n",
       "\n",
       "    .dataframe tbody tr th {\n",
       "        vertical-align: top;\n",
       "    }\n",
       "\n",
       "    .dataframe thead th {\n",
       "        text-align: right;\n",
       "    }\n",
       "</style>\n",
       "<table border=\"1\" class=\"dataframe\">\n",
       "  <thead>\n",
       "    <tr style=\"text-align: right;\">\n",
       "      <th></th>\n",
       "      <th>pontoId</th>\n",
       "      <th>lat</th>\n",
       "      <th>lon</th>\n",
       "      <th>lat_pred</th>\n",
       "      <th>lon_pred</th>\n",
       "      <th>erro_loc</th>\n",
       "    </tr>\n",
       "  </thead>\n",
       "  <tbody>\n",
       "    <tr>\n",
       "      <th>count</th>\n",
       "      <td>1199.000000</td>\n",
       "      <td>1199.000000</td>\n",
       "      <td>1199.000000</td>\n",
       "      <td>1199.000000</td>\n",
       "      <td>1199.000000</td>\n",
       "      <td>1199.000000</td>\n",
       "    </tr>\n",
       "    <tr>\n",
       "      <th>mean</th>\n",
       "      <td>1529.630525</td>\n",
       "      <td>-8.069824</td>\n",
       "      <td>-34.894488</td>\n",
       "      <td>-8.070520</td>\n",
       "      <td>-34.895396</td>\n",
       "      <td>508.370337</td>\n",
       "    </tr>\n",
       "    <tr>\n",
       "      <th>std</th>\n",
       "      <td>886.554420</td>\n",
       "      <td>0.004459</td>\n",
       "      <td>0.004635</td>\n",
       "      <td>0.004535</td>\n",
       "      <td>0.004986</td>\n",
       "      <td>383.426597</td>\n",
       "    </tr>\n",
       "    <tr>\n",
       "      <th>min</th>\n",
       "      <td>2.000000</td>\n",
       "      <td>-8.077570</td>\n",
       "      <td>-34.906830</td>\n",
       "      <td>-8.085337</td>\n",
       "      <td>-34.913251</td>\n",
       "      <td>8.822389</td>\n",
       "    </tr>\n",
       "    <tr>\n",
       "      <th>25%</th>\n",
       "      <td>708.500000</td>\n",
       "      <td>-8.073426</td>\n",
       "      <td>-34.897819</td>\n",
       "      <td>-8.073847</td>\n",
       "      <td>-34.898533</td>\n",
       "      <td>230.827966</td>\n",
       "    </tr>\n",
       "    <tr>\n",
       "      <th>50%</th>\n",
       "      <td>1602.000000</td>\n",
       "      <td>-8.069567</td>\n",
       "      <td>-34.894302</td>\n",
       "      <td>-8.069877</td>\n",
       "      <td>-34.894610</td>\n",
       "      <td>398.473326</td>\n",
       "    </tr>\n",
       "    <tr>\n",
       "      <th>75%</th>\n",
       "      <td>2321.500000</td>\n",
       "      <td>-8.066290</td>\n",
       "      <td>-34.890564</td>\n",
       "      <td>-8.067329</td>\n",
       "      <td>-34.892086</td>\n",
       "      <td>686.147630</td>\n",
       "    </tr>\n",
       "    <tr>\n",
       "      <th>max</th>\n",
       "      <td>2955.000000</td>\n",
       "      <td>-8.059339</td>\n",
       "      <td>-34.885067</td>\n",
       "      <td>-8.053880</td>\n",
       "      <td>-34.876797</td>\n",
       "      <td>2570.928693</td>\n",
       "    </tr>\n",
       "  </tbody>\n",
       "</table>\n",
       "</div>"
      ],
      "text/plain": [
       "           pontoId          lat          lon     lat_pred     lon_pred  \\\n",
       "count  1199.000000  1199.000000  1199.000000  1199.000000  1199.000000   \n",
       "mean   1529.630525    -8.069824   -34.894488    -8.070520   -34.895396   \n",
       "std     886.554420     0.004459     0.004635     0.004535     0.004986   \n",
       "min       2.000000    -8.077570   -34.906830    -8.085337   -34.913251   \n",
       "25%     708.500000    -8.073426   -34.897819    -8.073847   -34.898533   \n",
       "50%    1602.000000    -8.069567   -34.894302    -8.069877   -34.894610   \n",
       "75%    2321.500000    -8.066290   -34.890564    -8.067329   -34.892086   \n",
       "max    2955.000000    -8.059339   -34.885067    -8.053880   -34.876797   \n",
       "\n",
       "          erro_loc  \n",
       "count  1199.000000  \n",
       "mean    508.370337  \n",
       "std     383.426597  \n",
       "min       8.822389  \n",
       "25%     230.827966  \n",
       "50%     398.473326  \n",
       "75%     686.147630  \n",
       "max    2570.928693  "
      ]
     },
     "execution_count": 9,
     "metadata": {},
     "output_type": "execute_result"
    }
   ],
   "source": [
    "data_2.describe()"
   ]
  },
  {
   "cell_type": "code",
   "execution_count": 10,
   "metadata": {},
   "outputs": [
    {
     "data": {
      "text/plain": [
       "(array([  71.,  137.,  153.,  157.,  145.,   85.,  100.,   60.,   41.,\n",
       "          47.,   46.,   27.,   33.,   21.,   21.,   10.,   14.,    5.,\n",
       "           7.,    7.,    3.,    2.,    2.,    1.,    1.,    1.,    1.,\n",
       "           0.,    0.,    1.]),\n",
       " array([    8.81628382,    94.2882074 ,   179.76013098,   265.23205457,\n",
       "          350.70397815,   436.17590173,   521.64782531,   607.11974889,\n",
       "          692.59167247,   778.06359605,   863.53551963,   949.00744321,\n",
       "         1034.47936679,  1119.95129037,  1205.42321396,  1290.89513754,\n",
       "         1376.36706112,  1461.8389847 ,  1547.31090828,  1632.78283186,\n",
       "         1718.25475544,  1803.72667902,  1889.1986026 ,  1974.67052618,\n",
       "         2060.14244977,  2145.61437335,  2231.08629693,  2316.55822051,\n",
       "         2402.03014409,  2487.50206767,  2572.97399125]),\n",
       " <a list of 30 Patch objects>)"
      ]
     },
     "execution_count": 10,
     "metadata": {},
     "output_type": "execute_result"
    },
    {
     "data": {
      "image/png": "[encoded data removed]",
      "text/plain": [
       "<Figure size 432x288 with 1 Axes>"
      ]
     },
     "metadata": {
      "needs_background": "light"
     },
     "output_type": "display_data"
    }
   ],
   "source": [
    "plt.title('Histogram of errors (SUI)')\n",
    "plt.ylabel('# of samples')\n",
    "plt.xlabel('Error (m)')\n",
    "\n",
    "plt.hist(getDistance(sreal2, spred2)*1000, normed=False, bins=30)"
   ]
  },
  {
   "cell_type": "code",
   "execution_count": 11,
   "metadata": {},
   "outputs": [
    {
     "data": {
      "text/html": [
       "<div>\n",
       "<style scoped>\n",
       "    .dataframe tbody tr th:only-of-type {\n",
       "        vertical-align: middle;\n",
       "    }\n",
       "\n",
       "    .dataframe tbody tr th {\n",
       "        vertical-align: top;\n",
       "    }\n",
       "\n",
       "    .dataframe thead th {\n",
       "        text-align: right;\n",
       "    }\n",
       "</style>\n",
       "<table border=\"1\" class=\"dataframe\">\n",
       "  <thead>\n",
       "    <tr style=\"text-align: right;\">\n",
       "      <th></th>\n",
       "      <th>pontoId</th>\n",
       "      <th>lat</th>\n",
       "      <th>lon</th>\n",
       "      <th>lat_pred</th>\n",
       "      <th>lon_pred</th>\n",
       "      <th>erro_loc</th>\n",
       "    </tr>\n",
       "  </thead>\n",
       "  <tbody>\n",
       "    <tr>\n",
       "      <th>count</th>\n",
       "      <td>1500.000000</td>\n",
       "      <td>1500.000000</td>\n",
       "      <td>1500.000000</td>\n",
       "      <td>1500.000000</td>\n",
       "      <td>1500.000000</td>\n",
       "      <td>1500.000000</td>\n",
       "    </tr>\n",
       "    <tr>\n",
       "      <th>mean</th>\n",
       "      <td>1471.292667</td>\n",
       "      <td>-8.070097</td>\n",
       "      <td>-34.894814</td>\n",
       "      <td>-8.070583</td>\n",
       "      <td>-34.894691</td>\n",
       "      <td>173.419820</td>\n",
       "    </tr>\n",
       "    <tr>\n",
       "      <th>std</th>\n",
       "      <td>849.057388</td>\n",
       "      <td>0.004232</td>\n",
       "      <td>0.004354</td>\n",
       "      <td>0.003460</td>\n",
       "      <td>0.004163</td>\n",
       "      <td>184.951307</td>\n",
       "    </tr>\n",
       "    <tr>\n",
       "      <th>min</th>\n",
       "      <td>2.000000</td>\n",
       "      <td>-8.077570</td>\n",
       "      <td>-34.906830</td>\n",
       "      <td>-8.078334</td>\n",
       "      <td>-34.904005</td>\n",
       "      <td>3.171664</td>\n",
       "    </tr>\n",
       "    <tr>\n",
       "      <th>25%</th>\n",
       "      <td>746.750000</td>\n",
       "      <td>-8.073197</td>\n",
       "      <td>-34.897387</td>\n",
       "      <td>-8.073237</td>\n",
       "      <td>-34.897748</td>\n",
       "      <td>64.542856</td>\n",
       "    </tr>\n",
       "    <tr>\n",
       "      <th>50%</th>\n",
       "      <td>1464.500000</td>\n",
       "      <td>-8.069940</td>\n",
       "      <td>-34.895346</td>\n",
       "      <td>-8.070043</td>\n",
       "      <td>-34.894937</td>\n",
       "      <td>117.636945</td>\n",
       "    </tr>\n",
       "    <tr>\n",
       "      <th>75%</th>\n",
       "      <td>2190.250000</td>\n",
       "      <td>-8.067113</td>\n",
       "      <td>-34.891169</td>\n",
       "      <td>-8.068358</td>\n",
       "      <td>-34.891195</td>\n",
       "      <td>198.160391</td>\n",
       "    </tr>\n",
       "    <tr>\n",
       "      <th>max</th>\n",
       "      <td>2955.000000</td>\n",
       "      <td>-8.059339</td>\n",
       "      <td>-34.885067</td>\n",
       "      <td>-8.061198</td>\n",
       "      <td>-34.883677</td>\n",
       "      <td>1074.273696</td>\n",
       "    </tr>\n",
       "  </tbody>\n",
       "</table>\n",
       "</div>"
      ],
      "text/plain": [
       "           pontoId          lat          lon     lat_pred     lon_pred  \\\n",
       "count  1500.000000  1500.000000  1500.000000  1500.000000  1500.000000   \n",
       "mean   1471.292667    -8.070097   -34.894814    -8.070583   -34.894691   \n",
       "std     849.057388     0.004232     0.004354     0.003460     0.004163   \n",
       "min       2.000000    -8.077570   -34.906830    -8.078334   -34.904005   \n",
       "25%     746.750000    -8.073197   -34.897387    -8.073237   -34.897748   \n",
       "50%    1464.500000    -8.069940   -34.895346    -8.070043   -34.894937   \n",
       "75%    2190.250000    -8.067113   -34.891169    -8.068358   -34.891195   \n",
       "max    2955.000000    -8.059339   -34.885067    -8.061198   -34.883677   \n",
       "\n",
       "          erro_loc  \n",
       "count  1500.000000  \n",
       "mean    173.419820  \n",
       "std     184.951307  \n",
       "min       3.171664  \n",
       "25%      64.542856  \n",
       "50%     117.636945  \n",
       "75%     198.160391  \n",
       "max    1074.273696  "
      ]
     },
     "execution_count": 11,
     "metadata": {},
     "output_type": "execute_result"
    }
   ],
   "source": [
    "data_3.describe()"
   ]
  },
  {
   "cell_type": "code",
   "execution_count": 12,
   "metadata": {},
   "outputs": [
    {
     "data": {
      "text/plain": [
       "(array([ 165.,  272.,  261.,  221.,  151.,  125.,   60.,   51.,   22.,\n",
       "          19.,   13.,   14.,   10.,    5.,    7.,    3.,   11.,   12.,\n",
       "          15.,   10.,   15.,    7.,    5.,    2.,    4.,    4.,    7.,\n",
       "           2.,    4.,    3.]),\n",
       " array([    3.16379452,    38.71554122,    74.26728793,   109.81903464,\n",
       "          145.37078135,   180.92252805,   216.47427476,   252.02602147,\n",
       "          287.57776817,   323.12951488,   358.68126159,   394.23300829,\n",
       "          429.784755  ,   465.33650171,   500.88824841,   536.43999512,\n",
       "          571.99174183,   607.54348853,   643.09523524,   678.64698195,\n",
       "          714.19872866,   749.75047536,   785.30222207,   820.85396878,\n",
       "          856.40571548,   891.95746219,   927.5092089 ,   963.0609556 ,\n",
       "          998.61270231,  1034.16444902,  1069.71619572]),\n",
       " <a list of 30 Patch objects>)"
      ]
     },
     "execution_count": 12,
     "metadata": {},
     "output_type": "execute_result"
    },
    {
     "data": {
      "image/png": "[encoded data removed]",
      "text/plain": [
       "<Figure size 432x288 with 1 Axes>"
      ]
     },
     "metadata": {
      "needs_background": "light"
     },
     "output_type": "display_data"
    }
   ],
   "source": [
    "plt.title('Histogram of errors (FSPL with variant)')\n",
    "plt.ylabel('# of samples')\n",
    "plt.xlabel('Error (m)')\n",
    "\n",
    "plt.hist(getDistance(sreal, spred3)*1000, normed=False, bins=30)"
   ]
  },
  {
   "cell_type": "code",
   "execution_count": 13,
   "metadata": {},
   "outputs": [
    {
     "data": {
      "text/html": [
       "<div>\n",
       "<style scoped>\n",
       "    .dataframe tbody tr th:only-of-type {\n",
       "        vertical-align: middle;\n",
       "    }\n",
       "\n",
       "    .dataframe tbody tr th {\n",
       "        vertical-align: top;\n",
       "    }\n",
       "\n",
       "    .dataframe thead th {\n",
       "        text-align: right;\n",
       "    }\n",
       "</style>\n",
       "<table border=\"1\" class=\"dataframe\">\n",
       "  <thead>\n",
       "    <tr style=\"text-align: right;\">\n",
       "      <th></th>\n",
       "      <th>pontoId</th>\n",
       "      <th>lat</th>\n",
       "      <th>lon</th>\n",
       "      <th>lat_pred</th>\n",
       "      <th>lon_pred</th>\n",
       "      <th>erro_loc</th>\n",
       "    </tr>\n",
       "  </thead>\n",
       "  <tbody>\n",
       "    <tr>\n",
       "      <th>count</th>\n",
       "      <td>1500.000000</td>\n",
       "      <td>1500.000000</td>\n",
       "      <td>1500.000000</td>\n",
       "      <td>1500.000000</td>\n",
       "      <td>1500.000000</td>\n",
       "      <td>1500.000000</td>\n",
       "    </tr>\n",
       "    <tr>\n",
       "      <th>mean</th>\n",
       "      <td>1471.292667</td>\n",
       "      <td>-8.070097</td>\n",
       "      <td>-34.894814</td>\n",
       "      <td>-8.070045</td>\n",
       "      <td>-34.894876</td>\n",
       "      <td>34.537955</td>\n",
       "    </tr>\n",
       "    <tr>\n",
       "      <th>std</th>\n",
       "      <td>849.057388</td>\n",
       "      <td>0.004232</td>\n",
       "      <td>0.004354</td>\n",
       "      <td>0.004178</td>\n",
       "      <td>0.004263</td>\n",
       "      <td>47.764764</td>\n",
       "    </tr>\n",
       "    <tr>\n",
       "      <th>min</th>\n",
       "      <td>2.000000</td>\n",
       "      <td>-8.077570</td>\n",
       "      <td>-34.906830</td>\n",
       "      <td>-8.077608</td>\n",
       "      <td>-34.906663</td>\n",
       "      <td>0.391796</td>\n",
       "    </tr>\n",
       "    <tr>\n",
       "      <th>25%</th>\n",
       "      <td>746.750000</td>\n",
       "      <td>-8.073197</td>\n",
       "      <td>-34.897387</td>\n",
       "      <td>-8.073150</td>\n",
       "      <td>-34.897249</td>\n",
       "      <td>7.739809</td>\n",
       "    </tr>\n",
       "    <tr>\n",
       "      <th>50%</th>\n",
       "      <td>1464.500000</td>\n",
       "      <td>-8.069940</td>\n",
       "      <td>-34.895346</td>\n",
       "      <td>-8.069866</td>\n",
       "      <td>-34.895347</td>\n",
       "      <td>18.090319</td>\n",
       "    </tr>\n",
       "    <tr>\n",
       "      <th>75%</th>\n",
       "      <td>2190.250000</td>\n",
       "      <td>-8.067113</td>\n",
       "      <td>-34.891169</td>\n",
       "      <td>-8.067074</td>\n",
       "      <td>-34.891264</td>\n",
       "      <td>40.796200</td>\n",
       "    </tr>\n",
       "    <tr>\n",
       "      <th>max</th>\n",
       "      <td>2955.000000</td>\n",
       "      <td>-8.059339</td>\n",
       "      <td>-34.885067</td>\n",
       "      <td>-8.059458</td>\n",
       "      <td>-34.885189</td>\n",
       "      <td>360.943777</td>\n",
       "    </tr>\n",
       "  </tbody>\n",
       "</table>\n",
       "</div>"
      ],
      "text/plain": [
       "           pontoId          lat          lon     lat_pred     lon_pred  \\\n",
       "count  1500.000000  1500.000000  1500.000000  1500.000000  1500.000000   \n",
       "mean   1471.292667    -8.070097   -34.894814    -8.070045   -34.894876   \n",
       "std     849.057388     0.004232     0.004354     0.004178     0.004263   \n",
       "min       2.000000    -8.077570   -34.906830    -8.077608   -34.906663   \n",
       "25%     746.750000    -8.073197   -34.897387    -8.073150   -34.897249   \n",
       "50%    1464.500000    -8.069940   -34.895346    -8.069866   -34.895347   \n",
       "75%    2190.250000    -8.067113   -34.891169    -8.067074   -34.891264   \n",
       "max    2955.000000    -8.059339   -34.885067    -8.059458   -34.885189   \n",
       "\n",
       "          erro_loc  \n",
       "count  1500.000000  \n",
       "mean     34.537955  \n",
       "std      47.764764  \n",
       "min       0.391796  \n",
       "25%       7.739809  \n",
       "50%      18.090319  \n",
       "75%      40.796200  \n",
       "max     360.943777  "
      ]
     },
     "execution_count": 13,
     "metadata": {},
     "output_type": "execute_result"
    }
   ],
   "source": [
    "data_4.describe()"
   ]
  },
  {
   "cell_type": "code",
   "execution_count": 14,
   "metadata": {},
   "outputs": [
    {
     "data": {
      "text/plain": [
       "(array([ 586.,  294.,  181.,  135.,  108.,   45.,   26.,   17.,   15.,\n",
       "          10.,    3.,    3.,    8.,    5.,   14.,   16.,    7.,    3.,\n",
       "           1.,    4.,    7.,    4.,    2.,    0.,    0.,    1.,    0.,\n",
       "           2.,    1.,    2.]),\n",
       " array([   0.39090133,   12.34621749,   24.30153365,   36.25684982,\n",
       "          48.21216598,   60.16748214,   72.12279831,   84.07811447,\n",
       "          96.03343064,  107.9887468 ,  119.94406296,  131.89937913,\n",
       "         143.85469529,  155.81001146,  167.76532762,  179.72064378,\n",
       "         191.67595995,  203.63127611,  215.58659228,  227.54190844,\n",
       "         239.4972246 ,  251.45254077,  263.40785693,  275.36317309,\n",
       "         287.31848926,  299.27380542,  311.22912159,  323.18443775,\n",
       "         335.13975391,  347.09507008,  359.05038624]),\n",
       " <a list of 30 Patch objects>)"
      ]
     },
     "execution_count": 14,
     "metadata": {},
     "output_type": "execute_result"
    },
    {
     "data": {
      "image/png": "[encoded data removed]",
      "text/plain": [
       "<Figure size 432x288 with 1 Axes>"
      ]
     },
     "metadata": {
      "needs_background": "light"
     },
     "output_type": "display_data"
    }
   ],
   "source": [
    "plt.title('Histogram of errors (Our Solution)')\n",
    "plt.ylabel('# of samples')\n",
    "plt.xlabel('Error (m)')\n",
    "\n",
    "plt.hist(getDistance(sreal, spred4)*1000, normed=False, bins=30)"
   ]
  },
  {
   "cell_type": "code",
   "execution_count": 15,
   "metadata": {},
   "outputs": [
    {
     "data": {
      "image/png": "[encoded data removed]",
      "text/plain": [
       "<Figure size 432x288 with 1 Axes>"
      ]
     },
     "metadata": {
      "needs_background": "light"
     },
     "output_type": "display_data"
    }
   ],
   "source": [
    "erro_1 = getDistance(sreal1,spred1)*1000\n",
    "erro_2 = getDistance(sreal2,spred2)*1000\n",
    "erro_3 = getDistance(sreal,spred3)*1000\n",
    "erro_4 = getDistance(sreal,spred4)*1000\n",
    "\n",
    "allerrors = []\n",
    "\n",
    "allerrors.extend(erro_1)\n",
    "allerrors.extend(erro_2)\n",
    "allerrors.extend(erro_3)\n",
    "allerrors.extend(erro_4)\n",
    "\n",
    "\n",
    "\n",
    "labels = []\n",
    "labels.extend(np.repeat('C232Hata',erro_1.shape))\n",
    "labels.extend(np.repeat('SUI',erro_2.shape))\n",
    "labels.extend(np.repeat('FSPL with variant',erro_3.shape))\n",
    "labels.extend(np.repeat('Our Solution',erro_4.shape))\n",
    "\n",
    "\n",
    "df_data = {'Error (m)': allerrors,\n",
    "           'Approach': labels}\n",
    "df = pd.DataFrame(df_data)\n",
    "plt.title('Boxplots')\n",
    "sns.boxplot(x='Approach', y='Error (m)', data=df,width=0.8)\n",
    "plt.show()\n"
   ]
  },
  {
   "cell_type": "code",
   "execution_count": 16,
   "metadata": {},
   "outputs": [
    {
     "data": {
      "text/plain": [
       "FriedmanchisquareResult(statistic=24.409333333333052, pvalue=5.0070348385765567e-06)"
      ]
     },
     "execution_count": 16,
     "metadata": {},
     "output_type": "execute_result"
    }
   ],
   "source": [
    "import scipy.stats as scp\n",
    "\n",
    "\n",
    "scp.stats.friedmanchisquare(data_real['lat'],\n",
    "                            data_3['lat_pred'],\n",
    "                            data_4['lat_pred'])\n",
    "\n"
   ]
  },
  {
   "cell_type": "code",
   "execution_count": 17,
   "metadata": {},
   "outputs": [
    {
     "data": {
      "text/plain": [
       "FriedmanchisquareResult(statistic=21.324000000000524, pvalue=2.341813115375397e-05)"
      ]
     },
     "execution_count": 17,
     "metadata": {},
     "output_type": "execute_result"
    }
   ],
   "source": [
    "scp.stats.friedmanchisquare(data_real['lon'],\n",
    "                            data_3['lon_pred'],\n",
    "                            data_4['lon_pred'])"
   ]
  },
  {
   "cell_type": "code",
   "execution_count": 18,
   "metadata": {},
   "outputs": [],
   "source": [
    "# import folium \n",
    "\n",
    "# maap = folium.Map(location=[data_real['lat'].mean(),\n",
    "#                                     data_real['lon'].mean()],\n",
    "#                           zoom_start=13,\n",
    "#                           tiles='CartoDB dark_matter')\n",
    "\n",
    "# for i, (pos, pred_pos) in enumerate(zip(sreal,\n",
    "#                                         spred3)):\n",
    "\n",
    "#     marker = folium.CircleMarker(location=pos,\n",
    "#                                  color='blue',\n",
    "#                                  weight=2,\n",
    "#                                  radius=1,\n",
    "#                                  fill_color='blue',\n",
    "#                                  fill=True)\n",
    "#     marker.add_to(maap)\n",
    "#     marker = folium.CircleMarker(location=pred_pos,\n",
    "#                                  color='yellow',\n",
    "#                                  weight=2,\n",
    "#                                  radius=1,\n",
    "#                                  fill_color='yellow',\n",
    "#                                  fill=True)\n",
    "#     marker.add_to(maap)\n",
    "    \n",
    "#     folium.PolyLine([pos, pred_pos],\n",
    "#                     color=\"white\",\n",
    "#                     weight=1,\n",
    "#                     opacity=0.5).add_to(maap)\n",
    "    \n",
    "# maap\n"
   ]
  },
  {
   "cell_type": "code",
   "execution_count": 1,
   "metadata": {},
   "outputs": [],
   "source": [
    "# import folium\n",
    "\n",
    "# maap = folium.Map(location=[data_real['lat'].mean(),\n",
    "#                                     data_real['lon'].mean()],\n",
    "#                           zoom_start=13,\n",
    "#                           tiles='CartoDB dark_matter')\n",
    "\n",
    "# for i, (pos, pred_pos) in enumerate(zip(sreal,\n",
    "#                                         spred4)):\n",
    "\n",
    "#     marker = folium.CircleMarker(location=pos,\n",
    "#                                  color='blue',\n",
    "#                                  weight=2,\n",
    "#                                  radius=1,\n",
    "#                                  fill_color='blue',\n",
    "#                                  fill=True)\n",
    "#     marker.add_to(maap)\n",
    "#     marker = folium.CircleMarker(location=pred_pos,\n",
    "#                                  color='yellow',\n",
    "#                                  weight=2,\n",
    "#                                  radius=1,\n",
    "#                                  fill_color='yellow',\n",
    "#                                  fill=True)\n",
    "#     marker.add_to(maap)\n",
    "    \n",
    "#     folium.PolyLine([pos, pred_pos],\n",
    "#                     color=\"white\",\n",
    "#                     weight=1,\n",
    "#                     opacity=0.5).add_to(maap)\n",
    "    \n",
    "# maap"
   ]
  },
  {
   "cell_type": "code",
   "execution_count": null,
   "metadata": {},
   "outputs": [],
   "source": []
  },
  {
   "cell_type": "code",
   "execution_count": null,
   "metadata": {},
   "outputs": [],
   "source": []
  }
 ],
 "metadata": {
  "kernelspec": {
   "display_name": "Python 2",
   "language": "python",
   "name": "python2"
  },
  "language_info": {
   "codemirror_mode": {
    "name": "ipython",
    "version": 2
   },
   "file_extension": ".py",
   "mimetype": "text/x-python",
   "name": "python",
   "nbconvert_exporter": "python",
   "pygments_lexer": "ipython2",
   "version": "2.7.12"
  }
 },
 "nbformat": 4,
 "nbformat_minor": 2
}
